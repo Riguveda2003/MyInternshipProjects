{
 "cells": [
  {
   "cell_type": "code",
   "execution_count": 5,
   "id": "e9047618",
   "metadata": {},
   "outputs": [
    {
     "name": "stdout",
     "output_type": "stream",
     "text": [
      "Requirement already satisfied: requests in c:\\users\\ranjit kumar\\anaconda3\\lib\\site-packages (2.31.0)\n",
      "Requirement already satisfied: charset-normalizer<4,>=2 in c:\\users\\ranjit kumar\\anaconda3\\lib\\site-packages (from requests) (2.0.4)\n",
      "Requirement already satisfied: idna<4,>=2.5 in c:\\users\\ranjit kumar\\anaconda3\\lib\\site-packages (from requests) (3.4)\n",
      "Requirement already satisfied: urllib3<3,>=1.21.1 in c:\\users\\ranjit kumar\\anaconda3\\lib\\site-packages (from requests) (1.26.16)\n",
      "Requirement already satisfied: certifi>=2017.4.17 in c:\\users\\ranjit kumar\\anaconda3\\lib\\site-packages (from requests) (2023.7.22)\n",
      "Note: you may need to restart the kernel to use updated packages.\n"
     ]
    }
   ],
   "source": [
    "pip install requests\n"
   ]
  },
  {
   "cell_type": "code",
   "execution_count": 4,
   "id": "f860198b",
   "metadata": {},
   "outputs": [
    {
     "name": "stdout",
     "output_type": "stream",
     "text": [
      "City: Indore, India\n",
      "Temperature: 30.0°C\n",
      "Condition: Partly cloudy\n",
      "Humidity: 62%\n",
      "Wind Speed: 10.8 kph\n",
      "Feels Like: 37.0°C\n"
     ]
    }
   ],
   "source": [
    "import requests\n",
    "\n",
    "# Function to get weather data using WeatherAPI\n",
    "def get_weather(city, api_key):\n",
    "    base_url = \"http://api.weatherapi.com/v1/current.json\"\n",
    "    \n",
    "    # Build the full API URL\n",
    "    complete_url = f\"{base_url}?key={api_key}&q={city}&aqi=no\"\n",
    "    \n",
    "    # Make a GET request to fetch data\n",
    "    response = requests.get(complete_url)\n",
    "    \n",
    "    if response.status_code == 200:\n",
    "        data = response.json()\n",
    "        \n",
    "        # Extract relevant data\n",
    "        location = data['location']\n",
    "        current = data['current']\n",
    "        \n",
    "        # Display the weather details\n",
    "        print(f\"City: {location['name']}, {location['country']}\")\n",
    "        print(f\"Temperature: {current['temp_c']}°C\")\n",
    "        print(f\"Condition: {current['condition']['text']}\")\n",
    "        print(f\"Humidity: {current['humidity']}%\")\n",
    "        print(f\"Wind Speed: {current['wind_kph']} kph\")\n",
    "        print(f\"Feels Like: {current['feelslike_c']}°C\")\n",
    "        \n",
    "    else:\n",
    "        print(f\"Error fetching weather for {city}. Please check the city name and try again.\")\n",
    "\n",
    "# Example usage\n",
    "api_key = \"63fa861728e94128ab543006242209\"  # Replace with your WeatherAPI key\n",
    "city = \"indore,India\"\n",
    "get_weather(city, api_key)\n"
   ]
  },
  {
   "cell_type": "code",
   "execution_count": null,
   "id": "94046642",
   "metadata": {},
   "outputs": [],
   "source": []
  },
  {
   "cell_type": "code",
   "execution_count": null,
   "id": "080a550f",
   "metadata": {},
   "outputs": [],
   "source": []
  }
 ],
 "metadata": {
  "kernelspec": {
   "display_name": "Python 3 (ipykernel)",
   "language": "python",
   "name": "python3"
  },
  "language_info": {
   "codemirror_mode": {
    "name": "ipython",
    "version": 3
   },
   "file_extension": ".py",
   "mimetype": "text/x-python",
   "name": "python",
   "nbconvert_exporter": "python",
   "pygments_lexer": "ipython3",
   "version": "3.11.4"
  }
 },
 "nbformat": 4,
 "nbformat_minor": 5
}
